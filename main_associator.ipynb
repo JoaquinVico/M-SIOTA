{
 "cells": [
  {
   "cell_type": "code",
   "execution_count": null,
   "metadata": {
    "collapsed": false,
    "jupyter": {
     "outputs_hidden": false
    }
   },
   "outputs": [],
   "source": [
    "import numpy as np\n",
    "import random\n",
    "filepath = None\n"
   ]
  },
  {
   "cell_type": "code",
   "execution_count": null,
   "metadata": {},
   "outputs": [],
   "source": [
    "from main_associator import AssociationManager\n",
    "import sys\n",
    "import matplotlib.pyplot as plt\n",
    "\n",
    "manager = AssociationManager(\"default_config.json\")\n",
    "\n",
    "print(manager.configuration)\n",
    "\n",
    "    \n",
    "\n",
    "data = manager.readData()\n",
    "print( \"Number of unique id \" + str( len(data[\"TARGET_ADDR\"].unique())))\n",
    "\n",
    "plt.hist(data[\"TOD\"])\n",
    "\n",
    "print(data[\"TARGET_ADDR\"].unique())\n",
    "\n",
    "data = manager.formatData(data)\n",
    "\n",
    "\n",
    "\n",
    "print(data[\"TARGET_ADDR\"].unique())\n",
    "\n"
   ]
  },
  {
   "cell_type": "code",
   "execution_count": null,
   "metadata": {
    "collapsed": false,
    "jupyter": {
     "outputs_hidden": false
    }
   },
   "outputs": [],
   "source": [
    "print(\"Modified Data \\n\")\n",
    "print(data)\n"
   ]
  },
  {
   "cell_type": "code",
   "execution_count": null,
   "metadata": {
    "collapsed": false,
    "jupyter": {
     "outputs_hidden": false
    }
   },
   "outputs": [],
   "source": [
    "print(data[\"TARGET_ADDR\"].unique())"
   ]
  },
  {
   "cell_type": "code",
   "execution_count": null,
   "metadata": {
    "collapsed": false,
    "jupyter": {
     "outputs_hidden": false
    }
   },
   "outputs": [],
   "source": [
    "print(manager.configuration)\n",
    "\n",
    "association_results = manager.associate(data)\n",
    "\n",
    "print(association_results)"
   ]
  },
  {
   "cell_type": "code",
   "execution_count": null,
   "metadata": {
    "collapsed": false,
    "jupyter": {
     "outputs_hidden": false
    }
   },
   "outputs": [],
   "source": [
    "\n",
    "import pickle\n",
    "pickle.dump(association_results, open(\"association_results.pkl\", 'wb'))"
   ]
  },
  {
   "cell_type": "code",
   "execution_count": null,
   "metadata": {
    "collapsed": false,
    "jupyter": {
     "outputs_hidden": false
    }
   },
   "outputs": [],
   "source": [
    "manager.evaluate(data, association_results)\n"
   ]
  },
  {
   "cell_type": "code",
   "execution_count": null,
   "metadata": {},
   "outputs": [],
   "source": [
    "manager.configuration"
   ]
  },
  {
   "cell_type": "code",
   "execution_count": null,
   "metadata": {},
   "outputs": [],
   "source": [
    "import pickle\n",
    "import pandas as pd\n",
    "from main_associator import AssociationManager\n",
    "association_results = pickle.load(open(\"association_results.pkl\", 'rb'))\n",
    "manager = AssociationManager()\n",
    "manager.evaluate(data, association_results)\n"
   ]
  },
  {
   "cell_type": "code",
   "execution_count": null,
   "metadata": {},
   "outputs": [],
   "source": [
    "from importlib import reload  # Python 3.4+\n",
    "import Plot.plotter\n",
    "Plotter = reload(Plot.plotter)\n",
    "from Plot.plotter import Plotter\n",
    "\n",
    "plot = Plotter()\n",
    "plot.plotAllTracks_fading(association_results[0].inactive_tracks, 36000, threshold=500, y_lim=[-1050000, -900000], x_lim= [-400000, -300000]\n",
    "                         )"
   ]
  },
  {
   "cell_type": "code",
   "execution_count": null,
   "metadata": {
    "collapsed": false,
    "jupyter": {
     "outputs_hidden": false
    }
   },
   "outputs": [],
   "source": [
    "from importlib import reload  # Python 3.4+\n",
    "import Plot.plotter\n",
    "Plotter = reload(Plot.plotter)\n",
    "from Plot.plotter import Plotter\n",
    "\n",
    "plot = Plotter()\n",
    "count = 0\n",
    "lines =[]\n",
    "for track in association_results[0].inactive_tracks:\n",
    "    if track.taddr != \"\":\n",
    "        print(track.points[\"original_Taddr\"].unique())\n",
    "\n",
    "        condition = track.points[\"original_Taddr\"] == float(track.taddr)\n",
    "        count += len(track.points[track.points[\"original_Taddr\"] != float(track.taddr)])\n",
    "        plot.plotTracks_phase(track.points[condition], track.points[~condition], id= track.taddr)\n",
    "        lines.append(track.points)\n",
    "\n",
    "\n",
    "\n",
    "    # Review non taddr available\n",
    "\n",
    "\n"
   ]
  },
  {
   "cell_type": "code",
   "execution_count": null,
   "metadata": {},
   "outputs": [],
   "source": [
    "len(association_results[0].inactive_tracks)"
   ]
  }
 ],
 "metadata": {
  "kernelspec": {
   "display_name": "Python 3 (ipykernel)",
   "language": "python",
   "name": "python3"
  },
  "language_info": {
   "codemirror_mode": {
    "name": "ipython",
    "version": 3
   },
   "file_extension": ".py",
   "mimetype": "text/x-python",
   "name": "python",
   "nbconvert_exporter": "python",
   "pygments_lexer": "ipython3",
   "version": "3.11.10"
  }
 },
 "nbformat": 4,
 "nbformat_minor": 4
}
